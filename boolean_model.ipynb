{
 "cells": [
  {
   "cell_type": "code",
   "execution_count": 185,
   "metadata": {},
   "outputs": [],
   "source": [
    "import io\n",
    "from pdfminer.high_level import extract_text\n",
    "from collections import defaultdict\n",
    "from nltk.tokenize import sent_tokenize"
   ]
  },
  {
   "cell_type": "code",
   "execution_count": 186,
   "metadata": {},
   "outputs": [],
   "source": [
    "# Fungsi untuk membangun inverted index dari sebuah dokumen\n",
    "def build_inverted_index(doc_file):\n",
    "    inverted_index = defaultdict(set)\n",
    "    with open(doc_file, 'rb') as f:\n",
    "        for page, text in enumerate(extract_text(f).split('\\n\\n')):\n",
    "            words = text.strip().split()\n",
    "            for word in words:\n",
    "                inverted_index[word].add((doc_file, page))\n",
    "    return inverted_index"
   ]
  },
  {
   "cell_type": "code",
   "execution_count": 187,
   "metadata": {},
   "outputs": [],
   "source": [
    "# Fungsi untuk melakukan pencarian berdasarkan query dengan metode boolean\n",
    "def boolean_search(query, inverted_index):\n",
    "    query = set(query.strip().split())\n",
    "    result = set()\n",
    "    for word in query:\n",
    "        if word in inverted_index:\n",
    "            result = result.union(inverted_index[word])\n",
    "    return result"
   ]
  },
  {
   "cell_type": "code",
   "execution_count": 188,
   "metadata": {},
   "outputs": [],
   "source": [
    "# list file dokumen yang akan dicari\n",
    "doc_files = ['jurnal1.pdf', 'jurnal2.pdf', 'jurnal3.pdf']"
   ]
  },
  {
   "cell_type": "code",
   "execution_count": 189,
   "metadata": {},
   "outputs": [],
   "source": [
    "# indexing dokumen-dokumen tersebut\n",
    "inverted_indexes = {}\n",
    "for doc_file in doc_files:\n",
    "    inverted_indexes[doc_file] = build_inverted_index(doc_file)"
   ]
  },
  {
   "cell_type": "code",
   "execution_count": 190,
   "metadata": {},
   "outputs": [],
   "source": [
    "# gabungkan hasil indexing dari setiap dokumen menjadi satu inverted index\n",
    "inverted_index = defaultdict(set)\n",
    "for doc_index in inverted_indexes.values():\n",
    "    for term, postings in doc_index.items():\n",
    "        inverted_index[term].update(postings)"
   ]
  },
  {
   "cell_type": "code",
   "execution_count": 191,
   "metadata": {},
   "outputs": [],
   "source": [
    "# lakukan pencarian pada inverted index\n",
    "query = 'rumus'\n",
    "result = boolean_search(query, inverted_index)"
   ]
  },
  {
   "cell_type": "code",
   "execution_count": 192,
   "metadata": {},
   "outputs": [],
   "source": [
    "# buat dictionary untuk menyimpan teks dari setiap halaman dokumen\n",
    "doc_text = {}\n",
    "for doc_file in doc_files:\n",
    "    with open(doc_file, 'rb') as f:\n",
    "        doc_text[doc_file] = extract_text(f)"
   ]
  },
  {
   "cell_type": "code",
   "execution_count": 193,
   "metadata": {},
   "outputs": [
    {
     "name": "stdout",
     "output_type": "stream",
     "text": [
      "Misalnya, Google menggunakan rumus yang memeriksa lebih dari 200 faktor \n",
      "berbeda dalam menentukan relevansi.\n",
      "\n",
      "\n",
      "Nilai akurasi didefinisikan sebagai tingkat kedekatan antara \n",
      "nilai  predict  dengan  nilai  aktual  (true  value)  terlihat  pada \n",
      "rumus  1.\n",
      "Pada  pengujian  ini  dilakukan  pencarian  nilai  recall \n",
      "yang terlihat pada rumus 2 dan pencarian nilai precision yang \n",
      "terlihat pada rumus 3.\n",
      "\n",
      "\n"
     ]
    }
   ],
   "source": [
    "# tampilkan hasil pencarian dalam kalimat\n",
    "for doc_file, page in result:\n",
    "    text = doc_text[doc_file].split('\\n\\n')[page]\n",
    "    sentences = sent_tokenize(text)\n",
    "    for sentence in sentences:\n",
    "        if any(word in sentence for word in query.strip().split()):\n",
    "            print(sentence)\n",
    "    print('\\n')"
   ]
  }
 ],
 "metadata": {
  "kernelspec": {
   "display_name": "env",
   "language": "python",
   "name": "python3"
  },
  "language_info": {
   "codemirror_mode": {
    "name": "ipython",
    "version": 3
   },
   "file_extension": ".py",
   "mimetype": "text/x-python",
   "name": "python",
   "nbconvert_exporter": "python",
   "pygments_lexer": "ipython3",
   "version": "3.9.6"
  },
  "orig_nbformat": 4
 },
 "nbformat": 4,
 "nbformat_minor": 2
}
